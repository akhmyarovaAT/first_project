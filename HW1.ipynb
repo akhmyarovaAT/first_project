{
 "cells": [
  {
   "cell_type": "code",
   "execution_count": 1,
   "metadata": {},
   "outputs": [],
   "source": [
    "class Test:\n",
    "    @staticmethod\n",
    "    def assert_equals(a, b, *args, **kwargs):\n",
    "        assert a == b\n",
    "        print('Passed')"
   ]
  },
  {
   "cell_type": "markdown",
   "metadata": {},
   "source": [
    "Problem https://edabit.com/challenge/sLq6GDa4NzDWRD9hY (2 points)\n"
   ]
  },
  {
   "cell_type": "code",
   "execution_count": 2,
   "metadata": {},
   "outputs": [],
   "source": [
    "def count(n):\n",
    "    if n <= 0:\n",
    "        x=(-1)*n\n",
    "    else:\n",
    "        x=n\n",
    "    if x == 0:\n",
    "        return 1\n",
    "    k=0\n",
    "    while x > 0:\n",
    "        x=x//10\n",
    "        k+=1\n",
    "    return k\n"
   ]
  },
  {
   "cell_type": "code",
   "execution_count": 3,
   "metadata": {},
   "outputs": [
    {
     "name": "stdout",
     "output_type": "stream",
     "text": [
      "Passed\n",
      "Passed\n",
      "Passed\n",
      "Passed\n",
      "Passed\n",
      "Passed\n",
      "Passed\n",
      "Passed\n",
      "Passed\n",
      "Passed\n",
      "Passed\n",
      "Passed\n"
     ]
    }
   ],
   "source": [
    "Test.assert_equals(count(0), 1)\n",
    "Test.assert_equals(count(318), 3)\n",
    "Test.assert_equals(count(-92563), 5)\n",
    "Test.assert_equals(count(4666), 4)\n",
    "Test.assert_equals(count(-314890), 6)\n",
    "Test.assert_equals(count(654321), 6)\n",
    "Test.assert_equals(count(638476), 6)\n",
    "Test.assert_equals(count(12345), 5)\n",
    "Test.assert_equals(count(1289396), 7)\n",
    "Test.assert_equals(count(-1232323), 7)\n",
    "Test.assert_equals(count(12839393), 8)\n",
    "Test.assert_equals(count(-231273683), 9)"
   ]
  },
  {
   "cell_type": "markdown",
   "metadata": {},
   "source": [
    "Problem https://edabit.com/challenge/noqQNSr5o9qzvXWzL (2 points)"
   ]
  },
  {
   "cell_type": "code",
   "execution_count": 4,
   "metadata": {},
   "outputs": [],
   "source": [
    "def shift_to_right(x, y):\n",
    "    d=1\n",
    "    for i in range (y):\n",
    "        d=2*d\n",
    "    d=x//d;\n",
    "    if x<0 and x%d>0:\n",
    "        return (d-1)\n",
    "    else:\n",
    "        return (d)"
   ]
  },
  {
   "cell_type": "code",
   "execution_count": 5,
   "metadata": {},
   "outputs": [
    {
     "name": "stdout",
     "output_type": "stream",
     "text": [
      "Passed\n",
      "Passed\n",
      "Passed\n",
      "Passed\n",
      "Passed\n",
      "Passed\n",
      "Passed\n",
      "Passed\n",
      "Passed\n"
     ]
    }
   ],
   "source": [
    "num_vector = [[80, 3], [-24, 2], [-5, 1], [38, 0], [192, 4], [4666, 6], [3777, 6], [1024, 5], [-512, 10]]\n",
    "res_vector = [10, -6, -3, 38, 12, 72, 59, 32, -1]\n",
    "for i, (x, y) in enumerate(num_vector): Test.assert_equals(shift_to_right(x, y), res_vector[i])"
   ]
  },
  {
   "cell_type": "markdown",
   "metadata": {},
   "source": [
    "Problem https://edabit.com/challenge/wZQzNPXkLrHMj4mmz (2 points)"
   ]
  },
  {
   "cell_type": "code",
   "execution_count": 6,
   "metadata": {},
   "outputs": [],
   "source": [
    "def derivative(b, m):\n",
    "    f=m**(b-1)\n",
    "    f=f*b;\n",
    "    return f;"
   ]
  },
  {
   "cell_type": "code",
   "execution_count": 7,
   "metadata": {},
   "outputs": [
    {
     "name": "stdout",
     "output_type": "stream",
     "text": [
      "Passed\n",
      "Passed\n",
      "Passed\n",
      "Passed\n",
      "Passed\n",
      "Passed\n"
     ]
    }
   ],
   "source": [
    "Test.assert_equals(derivative(1, 4), 1)\n",
    "Test.assert_equals(derivative(3, -2), 12)\n",
    "Test.assert_equals(derivative(4, -3), -108)\n",
    "Test.assert_equals(derivative(9, -5), 3515625)\n",
    "Test.assert_equals(derivative(1254, 0), 0)\n",
    "Test.assert_equals(derivative(-2, 10), -0.002)"
   ]
  },
  {
   "cell_type": "markdown",
   "metadata": {},
   "source": [
    "Problem https://edabit.com/challenge/f3jX2BwzAuR8DXsy4 (3 points)"
   ]
  },
  {
   "cell_type": "code",
   "execution_count": 8,
   "metadata": {},
   "outputs": [],
   "source": [
    "def fact_of_fact(n):\n",
    "    res=1;\n",
    "\n",
    "    for i in range (1, n+1):\n",
    "        p=1;\n",
    "        for j in range (1, i+1):\n",
    "            p=p*j;\n",
    "        res=res*p;\n",
    "    return res;\n"
   ]
  },
  {
   "cell_type": "code",
   "execution_count": 9,
   "metadata": {},
   "outputs": [
    {
     "name": "stdout",
     "output_type": "stream",
     "text": [
      "Passed\n",
      "Passed\n",
      "Passed\n",
      "Passed\n",
      "Passed\n",
      "Passed\n",
      "Passed\n",
      "Passed\n",
      "Passed\n",
      "Passed\n",
      "Passed\n",
      "Passed\n",
      "Passed\n",
      "Passed\n",
      "Passed\n",
      "Passed\n",
      "Passed\n",
      "Passed\n",
      "Passed\n",
      "Passed\n",
      "Passed\n",
      "Passed\n"
     ]
    }
   ],
   "source": [
    "Test.assert_equals(fact_of_fact(4), 288),\n",
    "Test.assert_equals(fact_of_fact(1), 1),\n",
    "Test.assert_equals(fact_of_fact(5), 34560),\n",
    "Test.assert_equals(fact_of_fact(2), 2),\n",
    "Test.assert_equals(fact_of_fact(6), 24883200),\n",
    "Test.assert_equals(fact_of_fact(3), 12),\n",
    "Test.assert_equals(fact_of_fact(14), 69113789582492712943486800506462734562847413501952000000000000000),\n",
    "Test.assert_equals(fact_of_fact(11), 265790267296391946810949632000000000),\n",
    "Test.assert_equals(fact_of_fact(7), 125411328000),\n",
    "Test.assert_equals(fact_of_fact(22), 73185187344722251685917129061596359994436879170423331597220791224873045503248922811481956548134913475324429128068839519292427638045690327208977109451014144000000000000000000000000000000000000000000),\n",
    "Test.assert_equals(fact_of_fact(13), 792786697595796795607377086400871488552960000000000000),\n",
    "Test.assert_equals(fact_of_fact(8), 5056584744960000),\n",
    "Test.assert_equals(fact_of_fact(10), 6658606584104736522240000000),\n",
    "Test.assert_equals(fact_of_fact(9), 1834933472251084800000 ),\n",
    "Test.assert_equals(fact_of_fact(12), 127313963299399416749559771247411200000000000 ),\n",
    "Test.assert_equals(fact_of_fact(15), 90378331112371142262979521568630736335023247731599748366336000000000000000000 ),\n",
    "Test.assert_equals(fact_of_fact(16), 1890966832292234727042877370627225068196418587883634153182519380410368000000000000000000000 ),\n",
    "Test.assert_equals(fact_of_fact(17), 672593129192865130334217631473916658864122332882577979675277211683839238972899328000000000000000000000000 ),\n",
    "Test.assert_equals(fact_of_fact(18), 4306192564997715382115598640379294845786123319603755168023536027873932927153136831171640950784000000000000000000000000000 ),\n",
    "Test.assert_equals(fact_of_fact(19), 523827226948912906162136183269887782788685420217963126789982275317725639664591791615428617583779071590924288000000000000000000000000000000 ),\n",
    "Test.assert_equals(fact_of_fact(20), 1274420312381610764187232669591245728094053576480399681464607478621086015845192873311847341571189522511934190056991170232320000000000000000000000000000000000 ),\n",
    "Test.assert_equals(fact_of_fact(21), 65111334482340755583337032079153276047018894694274871209973336023462275586396482041798135409436085152342597056410325664391109570976337100800000000000000000000000000000000000000 )"
   ]
  },
  {
   "cell_type": "markdown",
   "metadata": {},
   "source": [
    "Problem https://edabit.com/challenge/MDWFcHCTiJfHmwTFx (2 points)"
   ]
  },
  {
   "cell_type": "code",
   "execution_count": 10,
   "metadata": {},
   "outputs": [],
   "source": [
    "def quadratic_equation(a, b, c):\n",
    "    d=(b*b-4*a*c)**(0.5);\n",
    "    #print (d)\n",
    "    x=(-b+d)/(2*a);\n",
    "    #print (x)\n",
    "    if x%1>=0.5:\n",
    "        x=x//1+1;\n",
    "    else:\n",
    "        x=x//1;\n",
    "    return int(x);"
   ]
  },
  {
   "cell_type": "code",
   "execution_count": 11,
   "metadata": {},
   "outputs": [
    {
     "name": "stdout",
     "output_type": "stream",
     "text": [
      "Passed\n",
      "Passed\n",
      "Passed\n"
     ]
    }
   ],
   "source": [
    "Test.assert_equals(quadratic_equation(1, 2, -3), 1)\n",
    "Test.assert_equals(quadratic_equation(2, -7, 3), 3)\n",
    "Test.assert_equals(quadratic_equation(1, -12, -28), 14)"
   ]
  },
  {
   "cell_type": "markdown",
   "metadata": {},
   "source": [
    "Problem https://edabit.com/challenge/BuwHwPvt92yw574zB (2 points)"
   ]
  },
  {
   "cell_type": "code",
   "execution_count": 12,
   "metadata": {},
   "outputs": [],
   "source": [
    "def list_of_multiples (num, length):\n",
    "    a=[];\n",
    "    x=0;\n",
    "    for i in range (length):\n",
    "        x=x+num;\n",
    "        a.append (x)\n",
    "    return a"
   ]
  },
  {
   "cell_type": "code",
   "execution_count": 13,
   "metadata": {},
   "outputs": [
    {
     "name": "stdout",
     "output_type": "stream",
     "text": [
      "Passed\n",
      "Passed\n",
      "Passed\n",
      "Passed\n",
      "Passed\n",
      "Passed\n",
      "Passed\n"
     ]
    }
   ],
   "source": [
    "Test.assert_equals(list_of_multiples(7, 5), [7, 14, 21, 28, 35])\n",
    "Test.assert_equals(list_of_multiples(12, 10), [12, 24, 36, 48, 60, 72, 84, 96, 108, 120])\n",
    "Test.assert_equals(list_of_multiples(17, 7), [17, 34, 51, 68, 85, 102, 119])\n",
    "Test.assert_equals(list_of_multiples(630, 14), [630, 1260, 1890, 2520, 3150, 3780, 4410, 5040, 5670, 6300, 6930, 7560, 8190, 8820])\n",
    "Test.assert_equals(list_of_multiples(140, 3), [140, 280, 420])\n",
    "Test.assert_equals(list_of_multiples(7, 8), [7, 14, 21, 28, 35, 42, 49, 56])\n",
    "Test.assert_equals(list_of_multiples(11, 21), [11, 22, 33, 44, 55, 66, 77, 88, 99, 110, 121, 132, 143, 154, 165, 176, 187, 198, 209, 220, 231])"
   ]
  },
  {
   "cell_type": "markdown",
   "metadata": {},
   "source": [
    "Problem https://edabit.com/challenge/o2AKq4xy3nfZabKXL (2 points)"
   ]
  },
  {
   "cell_type": "code",
   "execution_count": 14,
   "metadata": {},
   "outputs": [],
   "source": [
    "def solutions(a, b, c):\n",
    "    d = b * b - 4 * a * c;\n",
    "    # print (d)\n",
    "    if d<0:\n",
    "        return 0;\n",
    "    elif d>0:\n",
    "        return 2;\n",
    "    else:\n",
    "        return 1;"
   ]
  },
  {
   "cell_type": "code",
   "execution_count": 15,
   "metadata": {},
   "outputs": [
    {
     "name": "stdout",
     "output_type": "stream",
     "text": [
      "Passed\n",
      "Passed\n",
      "Passed\n",
      "Passed\n",
      "Passed\n",
      "Passed\n",
      "Passed\n"
     ]
    }
   ],
   "source": [
    "Test.assert_equals(solutions(1, 0, -1), 2)\n",
    "Test.assert_equals(solutions(1, 0, 0), 1)\n",
    "Test.assert_equals(solutions(1, 0, 1), 0)\n",
    "Test.assert_equals(solutions(200, 420, 800), 0)\n",
    "Test.assert_equals(solutions(200, 420, -800), 2)\n",
    "Test.assert_equals(solutions(1000, 1000, 0), 2)\n",
    "Test.assert_equals(solutions(10000, 400, 4), 1)"
   ]
  },
  {
   "cell_type": "code",
   "execution_count": null,
   "metadata": {},
   "outputs": [],
   "source": []
  }
 ],
 "metadata": {
  "kernelspec": {
   "display_name": "Python 3",
   "language": "python",
   "name": "python3"
  },
  "language_info": {
   "codemirror_mode": {
    "name": "ipython",
    "version": 3
   },
   "file_extension": ".py",
   "mimetype": "text/x-python",
   "name": "python",
   "nbconvert_exporter": "python",
   "pygments_lexer": "ipython3",
   "version": "3.7.0"
  }
 },
 "nbformat": 4,
 "nbformat_minor": 2
}
