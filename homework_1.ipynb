{
 "cells": [
  {
   "cell_type": "markdown",
   "metadata": {},
   "source": [
    "Integer Digits Count\n",
    "Create a function that counts the integer's number of digits.\n"
   ]
  },
  {
   "cell_type": "code",
   "execution_count": null,
   "metadata": {},
   "outputs": [],
   "source": [
    "#средний\n",
    "def count(n):\n",
    "    if n <= 0:\n",
    "        x=(-1)*n\n",
    "    else:\n",
    "        x=n\n",
    "    k=0\n",
    "    while x>0:\n",
    "        x=x//10\n",
    "        k+=1\n",
    "    return k\n"
   ]
  },
  {
   "cell_type": "code",
   "execution_count": 5,
   "metadata": {},
   "outputs": [
    {
     "data": {
      "text/plain": [
       "2"
      ]
     },
     "execution_count": 5,
     "metadata": {},
     "output_type": "execute_result"
    }
   ],
   "source": [
    "count(10)"
   ]
  },
  {
   "cell_type": "markdown",
   "metadata": {},
   "source": [
    "Right Shift by Division\n",
    "The right shift operation is similar to floor division by powers of two.\n",
    "\n",
    "Sample calculation using the right shift operator ( >> ):\n",
    "\n",
    "80 >> 3 = floor(80/2^3) = floor(80/8) = 10\n",
    "-24 >> 2 = floor(-24/2^2) = floor(-24/4) = -6\n",
    "-5 >> 1 = floor(-5/2^1) = floor(-5/2) = -3\n",
    "Write a function that mimics (without the use of >>) the right shift operator and returns the result from the two given integers.\n"
   ]
  },
  {
   "cell_type": "code",
   "execution_count": 7,
   "metadata": {},
   "outputs": [],
   "source": [
    "#средний\n",
    "def shift_to_right(x, y):\n",
    "    d=1\n",
    "    for i in range (y):\n",
    "        d=2*d\n",
    "    d=x//d;\n",
    "    if x<0 and x%d>0:\n",
    "        return (d-1)\n",
    "    else:\n",
    "        return (d)"
   ]
  },
  {
   "cell_type": "markdown",
   "metadata": {},
   "source": [
    "Derivative of a Function\n",
    "Create a function that takes numbers b and m as arguments and returns the derivative of the function f(x)=x^b with respect to x evaluated at x=m, where b and m are constants."
   ]
  },
  {
   "cell_type": "code",
   "execution_count": 8,
   "metadata": {},
   "outputs": [],
   "source": [
    "#средний\n",
    "def derivative(b, m):\n",
    "    f=1\n",
    "    for i in range (b-1):\n",
    "        f=f*m\n",
    "    f=f*b;\n",
    "    return f;"
   ]
  },
  {
   "cell_type": "markdown",
   "metadata": {},
   "source": [
    "Factorial of Factorials\n",
    "Create a function that takes an integer n and returns the factorial of factorials. See below examples for a better understanding:\n",
    "Examples\n",
    "derivative(1, 4) ➞ 1\n",
    "\n",
    "derivative(3, -2) ➞ 12\n",
    "\n",
    "derivative(4, -3) ➞ -108"
   ]
  },
  {
   "cell_type": "code",
   "execution_count": 9,
   "metadata": {},
   "outputs": [],
   "source": [
    "#сложно\n",
    "def fact_of_fact(n):\n",
    "    res=1;\n",
    "\n",
    "    for i in range (1, n+1):\n",
    "        p=1;\n",
    "        for j in range (1, i+1):\n",
    "            p=p*j;\n",
    "        res=res*p;\n",
    "    return res;\n"
   ]
  },
  {
   "cell_type": "markdown",
   "metadata": {},
   "source": [
    "Quadratic Equation\n",
    "Create a function to find only the root value of x in any quadratic equation ax^2 + bx + c. The function will take three arguments:\n",
    "\n",
    "a as the coefficient of x^2\n",
    "b as the coefficient of x\n",
    "c as the constant term\n",
    "Examples\n",
    "quadratic_equation(1, 2, -3) ➞ 1\n",
    "\n",
    "quadratic_equation(2, -7, 3) ➞ 3\n",
    "\n",
    "quadratic_equation(1, -12, -28) ➞ 14"
   ]
  },
  {
   "cell_type": "code",
   "execution_count": 10,
   "metadata": {},
   "outputs": [],
   "source": [
    "#средний\n",
    "def quadratic_equation(a, b, c):\n",
    "    d=(b*b-4*a*c)**(0.5);\n",
    "    #print (d)\n",
    "    x=(-b+d)/(2*a);\n",
    "    #print (x)\n",
    "    if x%1>=0.5:\n",
    "        x=x//1+1;\n",
    "    else:\n",
    "        x=x//1;\n",
    "    return int(x);"
   ]
  },
  {
   "cell_type": "markdown",
   "metadata": {},
   "source": [
    "List of Multiples\n",
    "Create a function that takes two numbers as arguments (num, length) and returns a list of multiples of num until the list length reaches length.\n",
    "\n",
    "Examples\n",
    "list_of_multiples(7, 5) ➞ [7, 14, 21, 28, 35]\n",
    "\n",
    "list_of_multiples(12, 10) ➞ [12, 24, 36, 48, 60, 72, 84, 96, 108, 120]\n",
    "\n",
    "list_of_multiples(17, 6) ➞ [17, 34, 51, 68, 85, 102]"
   ]
  },
  {
   "cell_type": "code",
   "execution_count": 11,
   "metadata": {},
   "outputs": [],
   "source": [
    "#средний\n",
    "def list_of_multiples (num, length):\n",
    "    a=[];\n",
    "    x=0;\n",
    "    for i in range (length):\n",
    "        x=x+num;\n",
    "        a.append (x);\n",
    "    return a;\n",
    "\n",
    "#средний\n",
    "def solutions(a, b, c):\n",
    "    d = b * b - 4 * a * c;\n",
    "    # print (d)\n",
    "    if d<0:\n",
    "        return 0;\n",
    "    elif d>0:\n",
    "        return 2;\n",
    "    else:\n",
    "        return 1;"
   ]
  },
  {
   "cell_type": "code",
   "execution_count": null,
   "metadata": {},
   "outputs": [],
   "source": []
  }
 ],
 "metadata": {
  "kernelspec": {
   "display_name": "Python 3",
   "language": "python",
   "name": "python3"
  },
  "language_info": {
   "codemirror_mode": {
    "name": "ipython",
    "version": 3
   },
   "file_extension": ".py",
   "mimetype": "text/x-python",
   "name": "python",
   "nbconvert_exporter": "python",
   "pygments_lexer": "ipython3",
   "version": "3.7.0"
  }
 },
 "nbformat": 4,
 "nbformat_minor": 2
}
