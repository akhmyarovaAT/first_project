{
  "nbformat": 4,
  "nbformat_minor": 0,
  "metadata": {
    "colab": {
      "name": "семьи.ipynb",
      "provenance": [],
      "authorship_tag": "ABX9TyOncNgsA5F/Uo6ijyA1m7Vx"
    },
    "kernelspec": {
      "name": "python3",
      "display_name": "Python 3"
    },
    "language_info": {
      "name": "python"
    }
  },
  "cells": [
    {
      "cell_type": "markdown",
      "source": [
        "MAD (Филатов, Ахмярова, Чернышова)"
      ],
      "metadata": {
        "id": "q4sBa9PoCqR6"
      }
    },
    {
      "cell_type": "code",
      "execution_count": null,
      "metadata": {
        "id": "PcawdnMRtkQq"
      },
      "outputs": [],
      "source": [
        "import xml.etree.ElementTree as ET\n",
        "import pandas as pd\n",
        "import numpy as np"
      ]
    },
    {
      "cell_type": "code",
      "source": [
        "nodes = ET.parse('padgett.xml').findall('.//node')\n",
        "networks = ET.parse('padgett.xml').findall('.//network')\n",
        "network = networks[0].findall('.//link')\n",
        "dictionary = np.empty(nodes.__len__(), dtype = np.dtype('U20'))\n",
        "matrix = np.empty((nodes.__len__(), nodes.__len__()), dtype = 'float')\n",
        "\n",
        "for i in range(dictionary.size):\n",
        "    dictionary[i] = nodes[i].get(\"id\")\n",
        "\n",
        "for link in network:\n",
        "    matrix[np.where(dictionary == link.get('target'))[0], np.where(dictionary == link.get('source'))[0]] = float(link.get('value'))\n",
        "\n",
        "d=0.15\n",
        "N = matrix.shape[0]\n",
        "vector = np.ones((N))/N\n",
        "matrix_hat = d*matrix + (1-d)/N\n",
        "for i in range(170):\n",
        "  vector=matrix_hat @ vector\n",
        "  vector=vector/np.sum(np.abs(vector))\n",
        "\n",
        "df = pd.DataFrame([dictionary, vector]).T\n",
        "df.columns = ['Family', 'PageRank']\n",
        "print(df)"
      ],
      "metadata": {
        "colab": {
          "base_uri": "https://localhost:8080/"
        },
        "id": "II3GL40FxoYs",
        "outputId": "a6e30be1-5b26-451e-9fcd-3a5cf6cf460a"
      },
      "execution_count": null,
      "outputs": [
        {
          "output_type": "stream",
          "name": "stdout",
          "text": [
            "       Family  PageRank\n",
            "0   ACCIAIUOL  0.052325\n",
            "1     ALBIZZI  0.066822\n",
            "2   BARBADORI  0.060143\n",
            "3    BISCHERI  0.067295\n",
            "4   CASTELLAN  0.065868\n",
            "5      GINORI  0.049971\n",
            "6    GUADAGNI   0.07217\n",
            "7   LAMBERTES  0.050606\n",
            "8      MEDICI  0.086652\n",
            "9       PAZZI  0.048939\n",
            "10    PERUZZI  0.066627\n",
            "11      PUCCI  0.042039\n",
            "12    RIDOLFI   0.06931\n",
            "13   SALVIATI  0.058134\n",
            "14    STROZZI  0.073981\n",
            "15  TORNABUON  0.069118\n"
          ]
        }
      ]
    },
    {
      "cell_type": "markdown",
      "source": [
        ""
      ],
      "metadata": {
        "id": "Spte0C3bCo4K"
      }
    },
    {
      "cell_type": "code",
      "source": [
        ""
      ],
      "metadata": {
        "id": "HWwp_LYT214L"
      },
      "execution_count": null,
      "outputs": []
    }
  ]
}