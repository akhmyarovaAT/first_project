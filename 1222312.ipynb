{
  "nbformat": 4,
  "nbformat_minor": 0,
  "metadata": {
    "colab": {
      "name": "1222312.ipynb",
      "provenance": []
    },
    "kernelspec": {
      "name": "python3",
      "display_name": "Python 3"
    },
    "language_info": {
      "name": "python"
    }
  },
  "cells": [
    {
      "cell_type": "code",
      "source": [
        "B=np.array([[.5, .4, .1],  [.2, .4, .4]])\n",
        "A=np.array ([[.5, .5],\n",
        "             [.4, .6]])\n",
        "pi=np.array ([.2, .8])\n",
        "data=np.array(list(input()), dtype = int)\n",
        "data=data-1\n",
        " \n",
        "\n",
        "for k in range (len(data)) :\n",
        "  a0=0\n",
        "  a1=0\n",
        "  for i in range (2 ):\n",
        "    a0=a0+pi[i]*A[i,0]* B[0,data[k]]\n",
        "    a1=a1+pi[i]*A[i,1]* B[1,data[k]]\n",
        "  pi[0]=a0\n",
        "  pi[1]=a1\n",
        "\n",
        "print(a0, a1)\n",
        "print (a0+a1)"
      ],
      "metadata": {
        "colab": {
          "base_uri": "https://localhost:8080/"
        },
        "id": "6OcP2Lk02uid",
        "outputId": "76a1e163-077b-4019-ad6f-e573e65c63c6"
      },
      "execution_count": 35,
      "outputs": [
        {
          "output_type": "stream",
          "name": "stdout",
          "text": [
            "13323332121131333\n",
            "2.869731230686593e-10 1.6167024942337061e-09\n",
            "1.9036756173023656e-09\n"
          ]
        }
      ]
    }
  ]
}